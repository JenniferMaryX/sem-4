{
 "cells": [
  {
   "cell_type": "markdown",
   "id": "5de16776-102e-488a-a002-22c8edc33670",
   "metadata": {},
   "source": [
    "## K-means clustering\n",
    "## Importing libraries"
   ]
  },
  {
   "cell_type": "code",
   "execution_count": 1,
   "id": "a328ad22-b48a-4ccc-90e7-b4bda4c891e2",
   "metadata": {},
   "outputs": [],
   "source": [
    "import cv2\n",
    "import numpy as np"
   ]
  },
  {
   "cell_type": "markdown",
   "id": "03fc4f37-a9d0-4fa6-b6e1-3958c2723fcd",
   "metadata": {},
   "source": [
    "## Reading images"
   ]
  },
  {
   "cell_type": "code",
   "execution_count": 8,
   "id": "1afaf5ac-d572-4b89-9375-e36e337dd2fe",
   "metadata": {},
   "outputs": [],
   "source": [
    "img=cv2.imread(\"17.jpeg\")"
   ]
  },
  {
   "cell_type": "markdown",
   "id": "a4ea3fd7-4ae7-4b38-8495-4868994eef10",
   "metadata": {},
   "source": [
    "## RGB Conversion"
   ]
  },
  {
   "cell_type": "code",
   "execution_count": 9,
   "id": "ad1b1829-ac1d-4164-af0a-35751e2c4eba",
   "metadata": {},
   "outputs": [],
   "source": [
    "imgrgb=cv2.cvtColor(img,cv2.COLOR_BGR2RGB)"
   ]
  },
  {
   "cell_type": "markdown",
   "id": "08c31bb1-6382-49dd-8217-1976e20261c2",
   "metadata": {},
   "source": [
    "## Reshape"
   ]
  },
  {
   "cell_type": "code",
   "execution_count": 15,
   "id": "09ef1553-e478-4e61-83d4-581fc3668423",
   "metadata": {},
   "outputs": [],
   "source": [
    "vec=imgrgb.reshape((-1,3))"
   ]
  },
  {
   "cell_type": "markdown",
   "id": "c5250a18-23fe-4212-ac77-20bf4a183fe5",
   "metadata": {},
   "source": [
    "## Float conversion"
   ]
  },
  {
   "cell_type": "code",
   "execution_count": 16,
   "id": "51ac18b6-ce27-4f46-aa4e-e12184e35fe2",
   "metadata": {},
   "outputs": [],
   "source": [
    "vec=np.float32(vec)"
   ]
  },
  {
   "cell_type": "markdown",
   "id": "e4d9a3c5-ba3b-4d5b-ad27-baa4db073a87",
   "metadata": {},
   "source": [
    "## Iteration Termination Criteria"
   ]
  },
  {
   "cell_type": "code",
   "execution_count": 17,
   "id": "2843ff48-fe97-4150-b5fe-ddaac2af8d95",
   "metadata": {},
   "outputs": [],
   "source": [
    "criteria=(cv2.TERM_CRITERIA_EPS + cv2.TERM_CRITERIA_MAX_ITER,100,1)"
   ]
  },
  {
   "cell_type": "markdown",
   "id": "d70c7b43-561b-45c8-9d12-07ce9c9f73f4",
   "metadata": {},
   "source": [
    "## Cluster conditions"
   ]
  },
  {
   "cell_type": "code",
   "execution_count": 18,
   "id": "0a98d65f-23ff-4594-82b7-d5f235ae96ff",
   "metadata": {},
   "outputs": [],
   "source": [
    "k = 3\n",
    "attempts=100"
   ]
  },
  {
   "cell_type": "markdown",
   "id": "c55886be-12db-495b-bfd1-17cc7213dd84",
   "metadata": {},
   "source": [
    "## K-means Clustering"
   ]
  },
  {
   "cell_type": "code",
   "execution_count": 19,
   "id": "1b213186-d0bc-4380-ae8a-7c0fc3b9ef4d",
   "metadata": {},
   "outputs": [],
   "source": [
    "compactness,label,center=cv2.kmeans(vec,k,None,criteria,attempts,cv2.KMEANS_PP_CENTERS)"
   ]
  },
  {
   "cell_type": "markdown",
   "id": "cc0b9443-1be9-4967-b805-2626cc0dec9e",
   "metadata": {},
   "source": [
    "## unit conversion"
   ]
  },
  {
   "cell_type": "code",
   "execution_count": 20,
   "id": "52718581-b90d-440b-af57-282953b559c5",
   "metadata": {},
   "outputs": [],
   "source": [
    "center=np.uint8(center)"
   ]
  },
  {
   "cell_type": "markdown",
   "id": "297e426d-b66b-4a89-9f47-0ed4552da1ce",
   "metadata": {},
   "source": [
    "## flattening and reshape"
   ]
  },
  {
   "cell_type": "code",
   "execution_count": 21,
   "id": "dc0f9a86-1ec1-4492-b29a-358074095879",
   "metadata": {},
   "outputs": [],
   "source": [
    "res=center[label.flatten()]\n",
    "res_img=res.reshape((imgrgb.shape))"
   ]
  },
  {
   "cell_type": "code",
   "execution_count": null,
   "id": "93e7fb9c-fcdc-4c8c-8e2e-88d99c357b81",
   "metadata": {},
   "outputs": [],
   "source": [
    "## "
   ]
  }
 ],
 "metadata": {
  "kernelspec": {
   "display_name": "Python 3 (ipykernel)",
   "language": "python",
   "name": "python3"
  },
  "language_info": {
   "codemirror_mode": {
    "name": "ipython",
    "version": 3
   },
   "file_extension": ".py",
   "mimetype": "text/x-python",
   "name": "python",
   "nbconvert_exporter": "python",
   "pygments_lexer": "ipython3",
   "version": "3.11.7"
  }
 },
 "nbformat": 4,
 "nbformat_minor": 5
}
