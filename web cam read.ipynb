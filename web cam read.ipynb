{
 "cells": [
  {
   "cell_type": "code",
   "execution_count": 5,
   "id": "b29ce1ec-c9ef-491e-9298-96daf872143b",
   "metadata": {},
   "outputs": [],
   "source": [
    "import cv2"
   ]
  },
  {
   "cell_type": "code",
   "execution_count": 6,
   "id": "8bf48eaf-576f-43ae-bd84-f4a7d9c2f95d",
   "metadata": {},
   "outputs": [],
   "source": [
    "vid=cv2.VideoCapture(0)"
   ]
  },
  {
   "cell_type": "markdown",
   "id": "2c2335cf-f8b1-440a-8a7a-5a935af55243",
   "metadata": {},
   "source": [
    "## webcam display"
   ]
  },
  {
   "cell_type": "code",
   "execution_count": 11,
   "id": "90ac9d57-53c5-4d08-8aa4-e8c4f8bb98df",
   "metadata": {},
   "outputs": [
    {
     "ename": "error",
     "evalue": "OpenCV(4.9.0) D:\\a\\opencv-python\\opencv-python\\opencv\\modules\\highgui\\src\\window.cpp:971: error: (-215:Assertion failed) size.width>0 && size.height>0 in function 'cv::imshow'\n",
     "output_type": "error",
     "traceback": [
      "\u001b[1;31m---------------------------------------------------------------------------\u001b[0m",
      "\u001b[1;31merror\u001b[0m                                     Traceback (most recent call last)",
      "Cell \u001b[1;32mIn[11], line 3\u001b[0m\n\u001b[0;32m      1\u001b[0m \u001b[38;5;28;01mwhile\u001b[39;00m (\u001b[38;5;28;01mTrue\u001b[39;00m):\n\u001b[0;32m      2\u001b[0m     ret,frame\u001b[38;5;241m=\u001b[39mvid\u001b[38;5;241m.\u001b[39mread()\n\u001b[1;32m----> 3\u001b[0m     cv2\u001b[38;5;241m.\u001b[39mimshow(\u001b[38;5;124m'\u001b[39m\u001b[38;5;124morign\u001b[39m\u001b[38;5;124m'\u001b[39m,frame)\n\u001b[0;32m      4\u001b[0m     \u001b[38;5;28;01mif\u001b[39;00m cv2\u001b[38;5;241m.\u001b[39mwaitKey(\u001b[38;5;241m1\u001b[39m) \u001b[38;5;241m&\u001b[39m \u001b[38;5;241m0xFF\u001b[39m \u001b[38;5;241m==\u001b[39m \u001b[38;5;28mord\u001b[39m(\u001b[38;5;124m'\u001b[39m\u001b[38;5;124mq\u001b[39m\u001b[38;5;124m'\u001b[39m):\n\u001b[0;32m      5\u001b[0m         \u001b[38;5;28;01mbreak\u001b[39;00m\n",
      "\u001b[1;31merror\u001b[0m: OpenCV(4.9.0) D:\\a\\opencv-python\\opencv-python\\opencv\\modules\\highgui\\src\\window.cpp:971: error: (-215:Assertion failed) size.width>0 && size.height>0 in function 'cv::imshow'\n"
     ]
    }
   ],
   "source": [
    "while (True):\n",
    "    ret,frame=vid.read()\n",
    "    cv2.imshow('orign',frame)\n",
    "    if cv2.waitKey(1) & 0xFF == ord('q'):\n",
    "        break\n",
    "        \n",
    "vid.release()\n",
    "cv2.destroyAllWindows()"
   ]
  },
  {
   "cell_type": "markdown",
   "id": "88d7cab1-4c47-456c-8bc4-9946a70601b6",
   "metadata": {},
   "source": [
    "## video write"
   ]
  },
  {
   "cell_type": "code",
   "execution_count": 12,
   "id": "8db1a34b-77a7-4d50-b071-08c9303548d9",
   "metadata": {},
   "outputs": [],
   "source": [
    "fourcc=cv2.VideoWriter_fourcc(*'mp4v')"
   ]
  },
  {
   "cell_type": "code",
   "execution_count": 13,
   "id": "32115ecc-fe5a-4e7e-be5e-72430af52fe7",
   "metadata": {},
   "outputs": [],
   "source": [
    "wrt=cv2.VideoWriter('cartoon.mp4',fourcc,50.0,(640,480))"
   ]
  },
  {
   "cell_type": "code",
   "execution_count": 14,
   "id": "fb198726-2923-4ce1-8b80-19b0ca438f08",
   "metadata": {},
   "outputs": [],
   "source": [
    "while (vid.isOpened()):\n",
    "    ret,frame=vid.read()\n",
    "    wrt.write(frame)\n",
    "    \n",
    "    cv2.imshow('orign',frame)\n",
    "    if cv2.waitKey(1) & 0xFF == ord('a'):\n",
    "        break\n",
    "        \n",
    "vid.release()\n",
    "wrt.release()\n",
    "cv2.destroyAllWindows()"
   ]
  },
  {
   "cell_type": "code",
   "execution_count": null,
   "id": "50d71b70-9d6c-4965-923e-bd182b5ab65a",
   "metadata": {},
   "outputs": [],
   "source": []
  }
 ],
 "metadata": {
  "kernelspec": {
   "display_name": "Python 3 (ipykernel)",
   "language": "python",
   "name": "python3"
  },
  "language_info": {
   "codemirror_mode": {
    "name": "ipython",
    "version": 3
   },
   "file_extension": ".py",
   "mimetype": "text/x-python",
   "name": "python",
   "nbconvert_exporter": "python",
   "pygments_lexer": "ipython3",
   "version": "3.11.7"
  }
 },
 "nbformat": 4,
 "nbformat_minor": 5
}
