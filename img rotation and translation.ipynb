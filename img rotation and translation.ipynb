{
 "cells": [
  {
   "cell_type": "code",
   "execution_count": 2,
   "id": "fda89af0-9253-49b4-b31b-b1be369e53c7",
   "metadata": {},
   "outputs": [],
   "source": [
    "import cv2\n",
    "import numpy as np"
   ]
  },
  {
   "cell_type": "code",
   "execution_count": 3,
   "id": "76157eb7-1d04-4caa-b3c1-0f441fb09f97",
   "metadata": {},
   "outputs": [],
   "source": [
    "im1=cv2.imread(\"13.jpg\")"
   ]
  },
  {
   "cell_type": "code",
   "execution_count": 4,
   "id": "5f32c002-1a36-4304-8457-10a718131513",
   "metadata": {},
   "outputs": [],
   "source": [
    "cv2.imshow(\"im1\",im1)\n",
    "cv2.waitKey(0)\n",
    "cv2.destroyAllWindows()"
   ]
  },
  {
   "cell_type": "code",
   "execution_count": 5,
   "id": "656b0b85-7dd3-4693-b718-ae7f4fdb54de",
   "metadata": {},
   "outputs": [
    {
     "name": "stdout",
     "output_type": "stream",
     "text": [
      "(245, 184, 3)\n"
     ]
    }
   ],
   "source": [
    "shp=im1.shape\n",
    "print(shp)"
   ]
  },
  {
   "cell_type": "code",
   "execution_count": 6,
   "id": "a600b896-5f21-44e9-bd13-6b30e0e2a9bb",
   "metadata": {},
   "outputs": [
    {
     "name": "stdout",
     "output_type": "stream",
     "text": [
      "245\n",
      "184\n"
     ]
    }
   ],
   "source": [
    "height,width=shp[:2]\n",
    "print(height)\n",
    "print(width)"
   ]
  },
  {
   "cell_type": "code",
   "execution_count": 7,
   "id": "a4f8277e-df1f-4902-b38b-186819137b8a",
   "metadata": {},
   "outputs": [
    {
     "name": "stdout",
     "output_type": "stream",
     "text": [
      "(122.5, 92.0)\n"
     ]
    }
   ],
   "source": [
    "cent=(height/2,width/2)\n",
    "print(cent)"
   ]
  },
  {
   "cell_type": "code",
   "execution_count": 8,
   "id": "103e1287-84a9-4262-b3ec-e280be34f04a",
   "metadata": {},
   "outputs": [],
   "source": [
    "rotation_matrix=cv2.getRotationMatrix2D(center=cent,angle=25,scale=0.5)\n",
    "rotated_im=cv2.warpAffine(src=im1,M=rotation_matrix,dsize=(width,height))"
   ]
  },
  {
   "cell_type": "code",
   "execution_count": 9,
   "id": "bdc929bb-7eae-4817-bf5c-5bc263b75190",
   "metadata": {},
   "outputs": [],
   "source": [
    "cv2.imshow('Original image',im1)\n",
    "cv2.waitKey(0)\n",
    "cv2.imshow('Rotated image',rotated_im)\n",
    "cv2.waitKey(0)\n",
    "cv2.destroyAllWindows()"
   ]
  },
  {
   "cell_type": "code",
   "execution_count": 10,
   "id": "95ba4c4d-365a-4b0e-b5be-d2550e8ec563",
   "metadata": {},
   "outputs": [],
   "source": [
    "tx,ty=width/2,height/2"
   ]
  },
  {
   "cell_type": "code",
   "execution_count": 47,
   "id": "b9cbdd69-2425-4fb9-8b2a-82f6ddaf92df",
   "metadata": {},
   "outputs": [],
   "source": [
    "trans_matrix=np.array([[0.3,-2,tx],[2,-1,ty]])"
   ]
  },
  {
   "cell_type": "code",
   "execution_count": 48,
   "id": "e7f34c8e-5f08-4938-8a56-febbd78801da",
   "metadata": {},
   "outputs": [],
   "source": [
    "trans_im=cv2.warpAffine(src=im1,M=trans_matrix,dsize=(width,height))"
   ]
  },
  {
   "cell_type": "code",
   "execution_count": 49,
   "id": "ca36a574-1057-494f-ab64-1f2afc1feb53",
   "metadata": {},
   "outputs": [],
   "source": [
    "cv2.imshow('Original image',im1)\n",
    "cv2.waitKey(0)\n",
    "cv2.imshow('Rotated image',trans_im)\n",
    "cv2.waitKey(0)\n",
    "cv2.destroyAllWindows()"
   ]
  },
  {
   "cell_type": "code",
   "execution_count": null,
   "id": "79e2f453-94fe-40a9-9e7c-089159103545",
   "metadata": {},
   "outputs": [],
   "source": []
  }
 ],
 "metadata": {
  "kernelspec": {
   "display_name": "Python 3 (ipykernel)",
   "language": "python",
   "name": "python3"
  },
  "language_info": {
   "codemirror_mode": {
    "name": "ipython",
    "version": 3
   },
   "file_extension": ".py",
   "mimetype": "text/x-python",
   "name": "python",
   "nbconvert_exporter": "python",
   "pygments_lexer": "ipython3",
   "version": "3.11.7"
  }
 },
 "nbformat": 4,
 "nbformat_minor": 5
}
