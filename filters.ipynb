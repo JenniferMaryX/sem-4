{
 "cells": [
  {
   "cell_type": "code",
   "execution_count": 2,
   "id": "bcf6fd00-4d4c-4719-8694-d8284823da77",
   "metadata": {},
   "outputs": [],
   "source": [
    "import cv2\n",
    "import numpy as np\n",
    "import matplotlib.pyplot as plt"
   ]
  },
  {
   "cell_type": "code",
   "execution_count": 3,
   "id": "eaa1a894-e305-4e6d-8c87-fa1af85cc3e0",
   "metadata": {},
   "outputs": [],
   "source": [
    "img=cv2.imread(\"11.jpg\")\n",
    "im1=cv2.imread(\"18.jpeg\")\n",
    "im2=cv2.resize(cv2.imread(\"23.jpeg\"),(400,400))\n",
    "im3=cv2.resize(cv2.imread(\"salt and pepper noise.jpeg\"),(400,400))"
   ]
  },
  {
   "cell_type": "markdown",
   "id": "e83b6b62-6fad-4d19-a987-558b009d93ce",
   "metadata": {},
   "source": [
    "## filter\n"
   ]
  },
  {
   "cell_type": "code",
   "execution_count": 4,
   "id": "4148f5d5-492a-491f-9cfd-415d22430a3a",
   "metadata": {},
   "outputs": [],
   "source": [
    "kernal=np.ones((4,4),np.float32)/16\n",
    "filter=cv2.filter2D(img,-1,kernal)\n",
    "cv2.imshow(\"img\",img)\n",
    "cv2.imshow(\"filter\",filter)\n",
    "cv2.waitKey(0)\n",
    "cv2.destroyAllWindows()"
   ]
  },
  {
   "cell_type": "markdown",
   "id": "868daec0-5105-42c6-9d59-e6b7daaded55",
   "metadata": {},
   "source": [
    "## blur"
   ]
  },
  {
   "cell_type": "code",
   "execution_count": 5,
   "id": "fbf97869-9850-4065-a88f-b48b23f3153d",
   "metadata": {},
   "outputs": [],
   "source": [
    "blur=cv2.blur(im1,(10,10))\n",
    "cv2.imshow(\"img\",im1)\n",
    "cv2.imshow(\"blur\",blur)\n",
    "cv2.waitKey(0)\n",
    "cv2.destroyAllWindows()"
   ]
  },
  {
   "cell_type": "markdown",
   "id": "1d914d56-f22a-4f94-9878-bd01c1ce0658",
   "metadata": {},
   "source": [
    "## gaussian blur"
   ]
  },
  {
   "cell_type": "code",
   "execution_count": 6,
   "id": "6be0117b-70f5-48ca-9585-84fb0df07798",
   "metadata": {},
   "outputs": [],
   "source": [
    "gblur=cv2.GaussianBlur(im2,(5,5),0)\n",
    "cv2.imshow(\"img\",im2)\n",
    "cv2.imshow(\"gblur\",gblur)\n",
    "cv2.waitKey(0)\n",
    "cv2.destroyAllWindows()"
   ]
  },
  {
   "cell_type": "markdown",
   "id": "243feab7-1d93-4a2c-abd3-18883f016068",
   "metadata": {},
   "source": [
    "## bilateral filter"
   ]
  },
  {
   "cell_type": "code",
   "execution_count": 9,
   "id": "a9f4417d-f0d0-407b-98b4-55d5c3bb661d",
   "metadata": {},
   "outputs": [],
   "source": [
    "bilateral=cv2.bilateralFilter(im2,9,60,50)\n",
    "cv2.imshow(\"img\",im2)\n",
    "cv2.imshow(\"bilateral\",bilateral)\n",
    "cv2.imshow(\"gblur\",gblur)\n",
    "cv2.waitKey(0)\n",
    "cv2.destroyAllWindows()"
   ]
  },
  {
   "cell_type": "code",
   "execution_count": 8,
   "id": "61d34f84-a771-4a0e-812c-19dd39b1af64",
   "metadata": {},
   "outputs": [],
   "source": [
    "medianFilter=cv2.medianBlur(im3,5)\n",
    "cv2.imshow(\"img\",im3)\n",
    "cv2.imshow(\"medianFilter\",medianFilter)\n",
    "cv2.waitKey(0)\n",
    "cv2.destroyAllWindows()"
   ]
  },
  {
   "cell_type": "code",
   "execution_count": 10,
   "id": "410b25f1-4c89-41b8-8679-702077d4b3f3",
   "metadata": {},
   "outputs": [],
   "source": [
    "titles=['img','2d','im1','blur','im2','gaussian','bilateral','im3','median']\n",
    "images=[img,filter,im1,blur,im2,gblur,bilateral,im3,medianFilter]\n"
   ]
  },
  {
   "cell_type": "code",
   "execution_count": 12,
   "id": "71a0d7f4-f429-47a9-ac5c-c85590132728",
   "metadata": {},
   "outputs": [],
   "source": [
    "for i in range (0,len(titles)):\n",
    "    cv2.imshow(\"images\",images[i])\n",
    "    cv2.waitKey(0)\n",
    "    cv2.destroyAllWindows()\n"
   ]
  },
  {
   "cell_type": "markdown",
   "id": "ef72c2f3-b531-413d-acd6-37f297026f1d",
   "metadata": {},
   "source": [
    "## Laplacian  filters"
   ]
  },
  {
   "cell_type": "code",
   "execution_count": 39,
   "id": "2cb85b23-3600-47b2-b7af-42842f714569",
   "metadata": {},
   "outputs": [],
   "source": [
    "im4=cv2.imread('24.jpeg',0)\n",
    "lap=cv2.Laplacian(im4,cv2.CV_64F,ksize=1)\n",
    "lap1=np.uint8(np.absolute(lap))"
   ]
  },
  {
   "cell_type": "code",
   "execution_count": 40,
   "id": "de40214d-0360-40ec-932e-46b44abe782c",
   "metadata": {},
   "outputs": [],
   "source": [
    "cv2.imshow(\"image\",im4)\n",
    "cv2.imshow(\"laplacian\",lap)\n",
    "cv2.imshow(\"Laplacian\",lap1)\n",
    "cv2.waitKey(0)\n",
    "cv2.destroyAllWindows()\n"
   ]
  },
  {
   "cell_type": "markdown",
   "id": "f3cea09e-fbab-4957-8270-efab062c4305",
   "metadata": {},
   "source": [
    "## sobel filter"
   ]
  },
  {
   "cell_type": "code",
   "execution_count": 45,
   "id": "63233a22-5aed-4bb7-8b66-702e5fc6c941",
   "metadata": {},
   "outputs": [],
   "source": [
    "im5=cv2.imread('25.jpeg',0)\n",
    "sobelx=cv2.Sobel(im5,cv2.CV_64F,1,0,ksize=3)\n",
    "sobelX=np.uint8(np.absolute(sobelx))\n",
    "cv2.imshow(\"img\",im5)\n",
    "cv2.imshow(\"sobelx\",sobelx)\n",
    "cv2.imshow(\"sobelX\",sobelX)\n",
    "cv2.waitKey(0)\n",
    "cv2.destroyAllWindows()"
   ]
  },
  {
   "cell_type": "code",
   "execution_count": 46,
   "id": "b3e3bce2-fcc6-4575-ad9d-2c230ebb0516",
   "metadata": {},
   "outputs": [],
   "source": [
    "sobely=cv2.Sobel(im5,cv2.CV_64F,0,1,ksize=3)\n",
    "sobelY=np.uint8(np.absolute(sobely))\n",
    "cv2.imshow(\"img\",im5)\n",
    "cv2.imshow(\"sobely\",sobely)\n",
    "cv2.imshow(\"sobelY\",sobelY)\n",
    "cv2.waitKey(0)\n",
    "cv2.destroyAllWindows()"
   ]
  },
  {
   "cell_type": "code",
   "execution_count": null,
   "id": "fd70b73c-f2fd-42a3-8543-a54aad0c75f1",
   "metadata": {},
   "outputs": [],
   "source": []
  }
 ],
 "metadata": {
  "kernelspec": {
   "display_name": "Python 3 (ipykernel)",
   "language": "python",
   "name": "python3"
  },
  "language_info": {
   "codemirror_mode": {
    "name": "ipython",
    "version": 3
   },
   "file_extension": ".py",
   "mimetype": "text/x-python",
   "name": "python",
   "nbconvert_exporter": "python",
   "pygments_lexer": "ipython3",
   "version": "3.11.7"
  }
 },
 "nbformat": 4,
 "nbformat_minor": 5
}
