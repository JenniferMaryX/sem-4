{
 "cells": [
  {
   "cell_type": "code",
   "execution_count": 1,
   "id": "70cb266c-26d4-48f9-92ca-4f684e3bb37a",
   "metadata": {},
   "outputs": [],
   "source": [
    "import numpy as np"
   ]
  },
  {
   "cell_type": "code",
   "execution_count": 2,
   "id": "d350d08b-dce6-424a-b4eb-b7fe65378aa8",
   "metadata": {},
   "outputs": [],
   "source": [
    "import cv2"
   ]
  },
  {
   "cell_type": "code",
   "execution_count": 3,
   "id": "9750de90-f60f-46bc-a71e-c41655962d19",
   "metadata": {},
   "outputs": [],
   "source": [
    "im1=cv2.imread(\"C:/Users/Administrator/Downloads/download.jfif\")"
   ]
  },
  {
   "cell_type": "code",
   "execution_count": null,
   "id": "3398ef59-68f4-4d6e-83f3-bf8c8cbed728",
   "metadata": {},
   "outputs": [],
   "source": [
    "im1"
   ]
  },
  {
   "cell_type": "code",
   "execution_count": null,
   "id": "b38723af-1961-4d2c-b8da-0ed325f8d1f5",
   "metadata": {},
   "outputs": [],
   "source": [
    "cv2.imshow(\"w1\",im1)\n",
    "cv2.waitKey(0)\n",
    "cv2.destroyAceWindow()"
   ]
  },
  {
   "cell_type": "code",
   "execution_count": 7,
   "id": "6eb7bf48-eee7-4ce7-9dd4-6d3e367a9449",
   "metadata": {},
   "outputs": [
    {
     "data": {
      "text/plain": [
       "True"
      ]
     },
     "execution_count": 7,
     "metadata": {},
     "output_type": "execute_result"
    }
   ],
   "source": [
    "cv2.imwrite(\"C:/Users/Administrator/Desktop/download.jpg\",im1)"
   ]
  },
  {
   "cell_type": "code",
   "execution_count": 8,
   "id": "e18bb18c-bb0a-4152-88f7-7ec44129caea",
   "metadata": {},
   "outputs": [],
   "source": [
    "shp=im1.shape"
   ]
  },
  {
   "cell_type": "code",
   "execution_count": 9,
   "id": "50f2e2d3-5bfd-447e-9438-c1ca47d997ce",
   "metadata": {},
   "outputs": [
    {
     "data": {
      "text/plain": [
       "(204, 306, 3)"
      ]
     },
     "execution_count": 9,
     "metadata": {},
     "output_type": "execute_result"
    }
   ],
   "source": [
    "shp"
   ]
  },
  {
   "cell_type": "code",
   "execution_count": 10,
   "id": "bdec8986-8189-450d-8e74-74988916b94a",
   "metadata": {},
   "outputs": [],
   "source": [
    "sz=im1.size"
   ]
  },
  {
   "cell_type": "code",
   "execution_count": 11,
   "id": "3bcd44f5-0e3e-4370-9e5d-e00a4d6b622b",
   "metadata": {},
   "outputs": [
    {
     "data": {
      "text/plain": [
       "187272"
      ]
     },
     "execution_count": 11,
     "metadata": {},
     "output_type": "execute_result"
    }
   ],
   "source": [
    "sz"
   ]
  },
  {
   "cell_type": "code",
   "execution_count": 18,
   "id": "bd31805c-8a14-40cc-a522-5658c7b49e99",
   "metadata": {},
   "outputs": [],
   "source": [
    "px=im1[3,35]"
   ]
  },
  {
   "cell_type": "code",
   "execution_count": 19,
   "id": "e66ecbed-6895-498e-8bdf-6f0c9949444f",
   "metadata": {},
   "outputs": [
    {
     "data": {
      "text/plain": [
       "array([15, 34, 17], dtype=uint8)"
      ]
     },
     "execution_count": 19,
     "metadata": {},
     "output_type": "execute_result"
    }
   ],
   "source": [
    "px"
   ]
  },
  {
   "cell_type": "code",
   "execution_count": null,
   "id": "bd5f4f92-2592-4d0e-a7b3-764fa3fdb7e5",
   "metadata": {},
   "outputs": [],
   "source": []
  }
 ],
 "metadata": {
  "kernelspec": {
   "display_name": "Python 3 (ipykernel)",
   "language": "python",
   "name": "python3"
  },
  "language_info": {
   "codemirror_mode": {
    "name": "ipython",
    "version": 3
   },
   "file_extension": ".py",
   "mimetype": "text/x-python",
   "name": "python",
   "nbconvert_exporter": "python",
   "pygments_lexer": "ipython3",
   "version": "3.11.7"
  }
 },
 "nbformat": 4,
 "nbformat_minor": 5
}
