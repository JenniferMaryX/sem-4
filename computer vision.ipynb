{
 "cells": [
  {
   "cell_type": "code",
   "execution_count": 1,
   "id": "5d24adf0-bff6-4c0a-82f3-587ab42d5f41",
   "metadata": {},
   "outputs": [
    {
     "name": "stdout",
     "output_type": "stream",
     "text": [
      "Requirement already satisfied: opencv-python in c:\\programdata\\anaconda3\\envs\\jennifer\\lib\\site-packages (4.9.0.80)\n",
      "Requirement already satisfied: numpy>=1.21.2 in c:\\programdata\\anaconda3\\envs\\jennifer\\lib\\site-packages (from opencv-python) (1.26.3)\n",
      "Note: you may need to restart the kernel to use updated packages.\n"
     ]
    }
   ],
   "source": [
    "pip install opencv-python"
   ]
  },
  {
   "cell_type": "code",
   "execution_count": 2,
   "id": "5734f611-3b08-4d94-93e1-a477265abe7a",
   "metadata": {},
   "outputs": [],
   "source": [
    "import cv2"
   ]
  },
  {
   "cell_type": "code",
   "execution_count": 3,
   "id": "e539d781-4eae-4134-92eb-129946f52df1",
   "metadata": {},
   "outputs": [],
   "source": [
    "import numpy as np"
   ]
  },
  {
   "cell_type": "code",
   "execution_count": 8,
   "id": "05b6c138-08c3-463d-b05f-2d86375edf04",
   "metadata": {},
   "outputs": [],
   "source": [
    "im1=cv2.imread(\"C:/Users/Administrator/Downloads/download.jfif\")"
   ]
  },
  {
   "cell_type": "code",
   "execution_count": 9,
   "id": "4aa162ae-c301-45cf-b365-1e47085e9f07",
   "metadata": {},
   "outputs": [
    {
     "data": {
      "text/plain": [
       "array([[[194, 175, 190],\n",
       "        [193, 174, 189],\n",
       "        [195, 176, 191],\n",
       "        ...,\n",
       "        [247, 254, 247],\n",
       "        [247, 254, 247],\n",
       "        [  1,   2,   0]],\n",
       "\n",
       "       [[195, 176, 191],\n",
       "        [194, 175, 190],\n",
       "        [194, 175, 190],\n",
       "        ...,\n",
       "        [247, 255, 245],\n",
       "        [246, 253, 246],\n",
       "        [  0,   2,   0]],\n",
       "\n",
       "       [[193, 174, 189],\n",
       "        [193, 174, 189],\n",
       "        [195, 174, 189],\n",
       "        ...,\n",
       "        [247, 255, 245],\n",
       "        [247, 254, 247],\n",
       "        [  0,   2,   0]],\n",
       "\n",
       "       ...,\n",
       "\n",
       "       [[138, 137, 139],\n",
       "        [145, 144, 146],\n",
       "        [145, 147, 148],\n",
       "        ...,\n",
       "        [171, 142, 168],\n",
       "        [161, 141, 160],\n",
       "        [  6,   0,   5]],\n",
       "\n",
       "       [[134, 133, 137],\n",
       "        [144, 143, 145],\n",
       "        [148, 147, 149],\n",
       "        ...,\n",
       "        [167, 138, 164],\n",
       "        [162, 142, 161],\n",
       "        [  6,   0,   5]],\n",
       "\n",
       "       [[135, 134, 138],\n",
       "        [145, 144, 148],\n",
       "        [148, 147, 149],\n",
       "        ...,\n",
       "        [169, 140, 166],\n",
       "        [164, 144, 163],\n",
       "        [  5,   0,   4]]], dtype=uint8)"
      ]
     },
     "execution_count": 9,
     "metadata": {},
     "output_type": "execute_result"
    }
   ],
   "source": [
    "im1"
   ]
  },
  {
   "cell_type": "code",
   "execution_count": 10,
   "id": "b7158df3-4831-4d9a-9f5a-c7b24ed2354a",
   "metadata": {},
   "outputs": [
    {
     "ename": "AttributeError",
     "evalue": "module 'cv2' has no attribute 'destroyAceWindow'",
     "output_type": "error",
     "traceback": [
      "\u001b[1;31m---------------------------------------------------------------------------\u001b[0m",
      "\u001b[1;31mAttributeError\u001b[0m                            Traceback (most recent call last)",
      "Cell \u001b[1;32mIn[10], line 3\u001b[0m\n\u001b[0;32m      1\u001b[0m cv2\u001b[38;5;241m.\u001b[39mimshow(\u001b[38;5;124m\"\u001b[39m\u001b[38;5;124mw1\u001b[39m\u001b[38;5;124m\"\u001b[39m,im1)\n\u001b[0;32m      2\u001b[0m cv2\u001b[38;5;241m.\u001b[39mwaitKey(\u001b[38;5;241m0\u001b[39m)\n\u001b[1;32m----> 3\u001b[0m cv2\u001b[38;5;241m.\u001b[39mdestroyAceWindow()\n",
      "\u001b[1;31mAttributeError\u001b[0m: module 'cv2' has no attribute 'destroyAceWindow'"
     ]
    }
   ],
   "source": [
    "cv2.imshow(\"w1\",im1)\n",
    "cv2.waitKey(0)\n",
    "cv2.destroyAllWindows()"
   ]
  },
  {
   "cell_type": "code",
   "execution_count": null,
   "id": "2be92fd0-87ba-43da-845a-7f6a67dfcacc",
   "metadata": {},
   "outputs": [],
   "source": []
  },
  {
   "cell_type": "code",
   "execution_count": null,
   "id": "e17cbcac-3e38-4146-a099-8a416f398028",
   "metadata": {},
   "outputs": [],
   "source": []
  },
  {
   "cell_type": "code",
   "execution_count": null,
   "id": "b07d2802-3a37-4774-8353-eb81b91e797d",
   "metadata": {},
   "outputs": [],
   "source": []
  }
 ],
 "metadata": {
  "kernelspec": {
   "display_name": "Python 3 (ipykernel)",
   "language": "python",
   "name": "python3"
  },
  "language_info": {
   "codemirror_mode": {
    "name": "ipython",
    "version": 3
   },
   "file_extension": ".py",
   "mimetype": "text/x-python",
   "name": "python",
   "nbconvert_exporter": "python",
   "pygments_lexer": "ipython3",
   "version": "3.11.7"
  }
 },
 "nbformat": 4,
 "nbformat_minor": 5
}
