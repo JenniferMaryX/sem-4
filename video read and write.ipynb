{
 "cells": [
  {
   "cell_type": "code",
   "execution_count": 1,
   "id": "d6661be7-a909-4f37-8b20-61cfd5a7cd94",
   "metadata": {},
   "outputs": [],
   "source": [
    "import numpy as np\n",
    "import cv2"
   ]
  },
  {
   "cell_type": "code",
   "execution_count": 2,
   "id": "c1f9f55f-e46d-4089-8d22-130a6e36d642",
   "metadata": {},
   "outputs": [],
   "source": [
    "view=cv2.VideoCapture(\"1.mp4\")"
   ]
  },
  {
   "cell_type": "code",
   "execution_count": 3,
   "id": "e02a3ca0-9204-4668-8a99-7af06e72681e",
   "metadata": {},
   "outputs": [
    {
     "name": "stdout",
     "output_type": "stream",
     "text": [
      "< cv2.VideoCapture 0000025DC0B1FDF0>\n"
     ]
    }
   ],
   "source": [
    "print(view)"
   ]
  },
  {
   "cell_type": "markdown",
   "id": "36c8278d-c0e2-4737-ac42-c024784d468a",
   "metadata": {},
   "source": [
    "## displaying videos"
   ]
  },
  {
   "cell_type": "code",
   "execution_count": null,
   "id": "a7920415-9794-4b56-8f59-415eab103eec",
   "metadata": {},
   "outputs": [],
   "source": [
    "while (view.isOpened()):\n",
    "    ret,frame=view.read()\n",
    "    grey=cv2.cvtColor(frame,cv2.COLOR_BGR2GRAY)\n",
    "    cv2.imshow('orign',frame)\n",
    "    cv2.imshow('grey',grey)\n",
    "    if cv2.waitKey(1) & 0xFF == ord('q'):\n",
    "        break\n",
    "        \n",
    "view.release()\n",
    "cv2.destroyAllWindows()"
   ]
  },
  {
   "cell_type": "markdown",
   "id": "0a50c911-734b-44bf-b320-6edc6d79bdb0",
   "metadata": {},
   "source": [
    "## video write"
   ]
  },
  {
   "cell_type": "code",
   "execution_count": 4,
   "id": "79fd624c-1d06-497a-89e3-7ba060873a1a",
   "metadata": {},
   "outputs": [],
   "source": [
    "fourcc=cv2.VideoWriter_fourcc(*'mp4v')"
   ]
  },
  {
   "cell_type": "code",
   "execution_count": 5,
   "id": "5862e010-d2fc-4e8b-9247-182d22a79e3f",
   "metadata": {},
   "outputs": [],
   "source": [
    "wrt=cv2.VideoWriter('cartoon.mp4',fourcc,50.0,(640,480))"
   ]
  },
  {
   "cell_type": "code",
   "execution_count": 6,
   "id": "91b6427e-eac0-43ed-aef9-7e8cf9065223",
   "metadata": {},
   "outputs": [],
   "source": [
    "while (view.isOpened()):\n",
    "    ret,frame=view.read()\n",
    "    wrt.write(frame)\n",
    "    \n",
    "    cv2.imshow('orign',frame)\n",
    "    if cv2.waitKey(1) & 0xFF == ord('a'):\n",
    "        break\n",
    "        \n",
    "view.release()\n",
    "wrt.release()\n",
    "cv2.destroyAllWindows()"
   ]
  },
  {
   "cell_type": "code",
   "execution_count": null,
   "id": "4b344c60-352c-4bd1-8221-980b47306571",
   "metadata": {},
   "outputs": [],
   "source": []
  }
 ],
 "metadata": {
  "kernelspec": {
   "display_name": "Python 3 (ipykernel)",
   "language": "python",
   "name": "python3"
  },
  "language_info": {
   "codemirror_mode": {
    "name": "ipython",
    "version": 3
   },
   "file_extension": ".py",
   "mimetype": "text/x-python",
   "name": "python",
   "nbconvert_exporter": "python",
   "pygments_lexer": "ipython3",
   "version": "3.11.7"
  }
 },
 "nbformat": 4,
 "nbformat_minor": 5
}
