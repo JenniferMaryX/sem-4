{
 "cells": [
  {
   "cell_type": "code",
   "execution_count": null,
   "id": "1aad1fb1-506f-47b7-a42a-85c1d30edd07",
   "metadata": {},
   "outputs": [],
   "source": [
    "import numpy as np"
   ]
  },
  {
   "cell_type": "code",
   "execution_count": null,
   "id": "661e5078-e058-4538-88c8-b35cacc404e3",
   "metadata": {},
   "outputs": [],
   "source": [
    "import cv2"
   ]
  },
  {
   "cell_type": "code",
   "execution_count": null,
   "id": "f178f31e-4612-438b-9422-fe07a38344b7",
   "metadata": {},
   "outputs": [],
   "source": [
    "im1=cv2.imread(\"C:/Users/Administrator/Downloads/download.jfif\")"
   ]
  },
  {
   "cell_type": "code",
   "execution_count": null,
   "id": "2b1b28b9-0b7b-42b0-984c-0c9fbd007ace",
   "metadata": {},
   "outputs": [],
   "source": [
    "print(im1.shape)"
   ]
  },
  {
   "cell_type": "code",
   "execution_count": null,
   "id": "d7bca40f-34d9-4d15-81b1-5ae9443f3bf7",
   "metadata": {},
   "outputs": [],
   "source": [
    "im1_resized=cv2.resize(im1,(400,300))"
   ]
  },
  {
   "cell_type": "code",
   "execution_count": null,
   "id": "e4c410fa-1240-447e-baed-6f9eb060458d",
   "metadata": {},
   "outputs": [],
   "source": [
    "cv2.imshow(\"w1\",im1)\n",
    "cv2.imshow(\"w2\",im1_resized)\n",
    "cv2.waitKey(0)\n",
    "cv2.destroyAllWindows()"
   ]
  },
  {
   "cell_type": "code",
   "execution_count": null,
   "id": "7d90d950-32a7-40ee-89f5-9377b86bd637",
   "metadata": {},
   "outputs": [],
   "source": [
    "colors_avl=[i for i in dir(cv2) if i.startswith(\"COLOR_BGR\")]"
   ]
  },
  {
   "cell_type": "code",
   "execution_count": null,
   "id": "d342c140-dcbd-4398-b9de-827b96ce7be9",
   "metadata": {},
   "outputs": [],
   "source": [
    "colors_avl"
   ]
  },
  {
   "cell_type": "code",
   "execution_count": null,
   "id": "0c98a680-eed2-44ba-b6c3-59db94ad9d01",
   "metadata": {},
   "outputs": [],
   "source": [
    "im3=cv2.cvtColor(im1,cv2.COLOR_BGR2HSV)"
   ]
  },
  {
   "cell_type": "code",
   "execution_count": null,
   "id": "be5eb131-31e3-4520-a17a-8008cb001e15",
   "metadata": {},
   "outputs": [],
   "source": [
    "cv2.imshow(\"w1\",im1)\n",
    "cv2.imshow(\"w2\",im3)\n",
    "cv2.waitKey(0)\n",
    "cv2.destroyAllWindows()"
   ]
  },
  {
   "cell_type": "code",
   "execution_count": null,
   "id": "91b6929b-3124-4dd4-86b5-7b72d4c3670c",
   "metadata": {},
   "outputs": [],
   "source": []
  }
 ],
 "metadata": {
  "kernelspec": {
   "display_name": "Python 3 (ipykernel)",
   "language": "python",
   "name": "python3"
  },
  "language_info": {
   "codemirror_mode": {
    "name": "ipython",
    "version": 3
   },
   "file_extension": ".py",
   "mimetype": "text/x-python",
   "name": "python",
   "nbconvert_exporter": "python",
   "pygments_lexer": "ipython3",
   "version": "3.11.7"
  }
 },
 "nbformat": 4,
 "nbformat_minor": 5
}
