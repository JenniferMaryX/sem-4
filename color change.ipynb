{
 "cells": [
  {
   "cell_type": "code",
   "execution_count": 2,
   "id": "1aad1fb1-506f-47b7-a42a-85c1d30edd07",
   "metadata": {},
   "outputs": [],
   "source": [
    "import numpy as np"
   ]
  },
  {
   "cell_type": "code",
   "execution_count": 3,
   "id": "661e5078-e058-4538-88c8-b35cacc404e3",
   "metadata": {},
   "outputs": [],
   "source": [
    "import cv2"
   ]
  },
  {
   "cell_type": "code",
   "execution_count": 4,
   "id": "f178f31e-4612-438b-9422-fe07a38344b7",
   "metadata": {},
   "outputs": [],
   "source": [
    "im1=cv2.imread(\"C:/Users/Administrator/Downloads/download.jfif\")"
   ]
  },
  {
   "cell_type": "code",
   "execution_count": 5,
   "id": "2b1b28b9-0b7b-42b0-984c-0c9fbd007ace",
   "metadata": {},
   "outputs": [
    {
     "name": "stdout",
     "output_type": "stream",
     "text": [
      "(204, 306, 3)\n"
     ]
    }
   ],
   "source": [
    "print(im1.shape)"
   ]
  },
  {
   "cell_type": "code",
   "execution_count": 6,
   "id": "d7bca40f-34d9-4d15-81b1-5ae9443f3bf7",
   "metadata": {},
   "outputs": [],
   "source": [
    "im1_resized=cv2.resize(im1,(400,300))"
   ]
  },
  {
   "cell_type": "code",
   "execution_count": 7,
   "id": "e4c410fa-1240-447e-baed-6f9eb060458d",
   "metadata": {},
   "outputs": [
    {
     "ename": "AttributeError",
     "evalue": "module 'cv2' has no attribute 'destroyAceWindow'",
     "output_type": "error",
     "traceback": [
      "\u001b[1;31m---------------------------------------------------------------------------\u001b[0m",
      "\u001b[1;31mAttributeError\u001b[0m                            Traceback (most recent call last)",
      "Cell \u001b[1;32mIn[7], line 4\u001b[0m\n\u001b[0;32m      2\u001b[0m cv2\u001b[38;5;241m.\u001b[39mimshow(\u001b[38;5;124m\"\u001b[39m\u001b[38;5;124mw2\u001b[39m\u001b[38;5;124m\"\u001b[39m,im1_resized)\n\u001b[0;32m      3\u001b[0m cv2\u001b[38;5;241m.\u001b[39mwaitKey(\u001b[38;5;241m0\u001b[39m)\n\u001b[1;32m----> 4\u001b[0m cv2\u001b[38;5;241m.\u001b[39mdestroyAceWindow()\n",
      "\u001b[1;31mAttributeError\u001b[0m: module 'cv2' has no attribute 'destroyAceWindow'"
     ]
    }
   ],
   "source": [
    "cv2.imshow(\"w1\",im1)\n",
    "cv2.imshow(\"w2\",im1_resized)\n",
    "cv2.waitKey(0)\n",
    "cv2.destroyAceWindow()"
   ]
  },
  {
   "cell_type": "code",
   "execution_count": 6,
   "id": "7d90d950-32a7-40ee-89f5-9377b86bd637",
   "metadata": {},
   "outputs": [],
   "source": [
    "colors_avl=[i for i in dir(cv2) if i.startswith(\"COLOR_BGR\")]"
   ]
  },
  {
   "cell_type": "code",
   "execution_count": 7,
   "id": "d342c140-dcbd-4398-b9de-827b96ce7be9",
   "metadata": {},
   "outputs": [
    {
     "data": {
      "text/plain": [
       "['COLOR_BGR2BGR555',\n",
       " 'COLOR_BGR2BGR565',\n",
       " 'COLOR_BGR2BGRA',\n",
       " 'COLOR_BGR2GRAY',\n",
       " 'COLOR_BGR2HLS',\n",
       " 'COLOR_BGR2HLS_FULL',\n",
       " 'COLOR_BGR2HSV',\n",
       " 'COLOR_BGR2HSV_FULL',\n",
       " 'COLOR_BGR2LAB',\n",
       " 'COLOR_BGR2LUV',\n",
       " 'COLOR_BGR2Lab',\n",
       " 'COLOR_BGR2Luv',\n",
       " 'COLOR_BGR2RGB',\n",
       " 'COLOR_BGR2RGBA',\n",
       " 'COLOR_BGR2XYZ',\n",
       " 'COLOR_BGR2YCR_CB',\n",
       " 'COLOR_BGR2YCrCb',\n",
       " 'COLOR_BGR2YUV',\n",
       " 'COLOR_BGR2YUV_I420',\n",
       " 'COLOR_BGR2YUV_IYUV',\n",
       " 'COLOR_BGR2YUV_UYNV',\n",
       " 'COLOR_BGR2YUV_UYVY',\n",
       " 'COLOR_BGR2YUV_Y422',\n",
       " 'COLOR_BGR2YUV_YUNV',\n",
       " 'COLOR_BGR2YUV_YUY2',\n",
       " 'COLOR_BGR2YUV_YUYV',\n",
       " 'COLOR_BGR2YUV_YV12',\n",
       " 'COLOR_BGR2YUV_YVYU',\n",
       " 'COLOR_BGR5552BGR',\n",
       " 'COLOR_BGR5552BGRA',\n",
       " 'COLOR_BGR5552GRAY',\n",
       " 'COLOR_BGR5552RGB',\n",
       " 'COLOR_BGR5552RGBA',\n",
       " 'COLOR_BGR5652BGR',\n",
       " 'COLOR_BGR5652BGRA',\n",
       " 'COLOR_BGR5652GRAY',\n",
       " 'COLOR_BGR5652RGB',\n",
       " 'COLOR_BGR5652RGBA',\n",
       " 'COLOR_BGRA2BGR',\n",
       " 'COLOR_BGRA2BGR555',\n",
       " 'COLOR_BGRA2BGR565',\n",
       " 'COLOR_BGRA2GRAY',\n",
       " 'COLOR_BGRA2RGB',\n",
       " 'COLOR_BGRA2RGBA',\n",
       " 'COLOR_BGRA2YUV_I420',\n",
       " 'COLOR_BGRA2YUV_IYUV',\n",
       " 'COLOR_BGRA2YUV_UYNV',\n",
       " 'COLOR_BGRA2YUV_UYVY',\n",
       " 'COLOR_BGRA2YUV_Y422',\n",
       " 'COLOR_BGRA2YUV_YUNV',\n",
       " 'COLOR_BGRA2YUV_YUY2',\n",
       " 'COLOR_BGRA2YUV_YUYV',\n",
       " 'COLOR_BGRA2YUV_YV12',\n",
       " 'COLOR_BGRA2YUV_YVYU']"
      ]
     },
     "execution_count": 7,
     "metadata": {},
     "output_type": "execute_result"
    }
   ],
   "source": [
    "colors_avl"
   ]
  },
  {
   "cell_type": "code",
   "execution_count": 8,
   "id": "0c98a680-eed2-44ba-b6c3-59db94ad9d01",
   "metadata": {},
   "outputs": [],
   "source": [
    "im3=cv2.cvtColor(im1,cv2.COLOR_BGR2HSV)"
   ]
  },
  {
   "cell_type": "code",
   "execution_count": 9,
   "id": "be5eb131-31e3-4520-a17a-8008cb001e15",
   "metadata": {},
   "outputs": [
    {
     "ename": "AttributeError",
     "evalue": "module 'cv2' has no attribute 'destroyAceWindow'",
     "output_type": "error",
     "traceback": [
      "\u001b[1;31m---------------------------------------------------------------------------\u001b[0m",
      "\u001b[1;31mAttributeError\u001b[0m                            Traceback (most recent call last)",
      "Cell \u001b[1;32mIn[9], line 4\u001b[0m\n\u001b[0;32m      2\u001b[0m cv2\u001b[38;5;241m.\u001b[39mimshow(\u001b[38;5;124m\"\u001b[39m\u001b[38;5;124mw2\u001b[39m\u001b[38;5;124m\"\u001b[39m,im3)\n\u001b[0;32m      3\u001b[0m cv2\u001b[38;5;241m.\u001b[39mwaitKey(\u001b[38;5;241m0\u001b[39m)\n\u001b[1;32m----> 4\u001b[0m cv2\u001b[38;5;241m.\u001b[39mdestroyAceWindow()\n",
      "\u001b[1;31mAttributeError\u001b[0m: module 'cv2' has no attribute 'destroyAceWindow'"
     ]
    }
   ],
   "source": [
    "cv2.imshow(\"w1\",im1)\n",
    "cv2.imshow(\"w2\",im3)\n",
    "cv2.waitKey(0)\n",
    "cv2.destroyAceWindow()"
   ]
  },
  {
   "cell_type": "code",
   "execution_count": null,
   "id": "91b6929b-3124-4dd4-86b5-7b72d4c3670c",
   "metadata": {},
   "outputs": [],
   "source": []
  }
 ],
 "metadata": {
  "kernelspec": {
   "display_name": "Python 3 (ipykernel)",
   "language": "python",
   "name": "python3"
  },
  "language_info": {
   "codemirror_mode": {
    "name": "ipython",
    "version": 3
   },
   "file_extension": ".py",
   "mimetype": "text/x-python",
   "name": "python",
   "nbconvert_exporter": "python",
   "pygments_lexer": "ipython3",
   "version": "3.11.7"
  }
 },
 "nbformat": 4,
 "nbformat_minor": 5
}
