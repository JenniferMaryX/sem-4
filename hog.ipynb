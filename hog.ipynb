{
 "cells": [
  {
   "cell_type": "code",
   "execution_count": null,
   "id": "8b0d6850-15c3-4bf9-8266-a33c2efa9a09",
   "metadata": {},
   "outputs": [],
   "source": [
    "pip install imutils"
   ]
  },
  {
   "cell_type": "code",
   "execution_count": 8,
   "id": "b596e103-c1f6-48c2-aee9-063315b1ebd0",
   "metadata": {},
   "outputs": [],
   "source": [
    "import cv2\n",
    "import imutils"
   ]
  },
  {
   "cell_type": "code",
   "execution_count": 9,
   "id": "6c707f1c-36cd-4485-b50c-87c82ee5e00c",
   "metadata": {},
   "outputs": [],
   "source": [
    "im1=cv2.imread('28.jpg')\n"
   ]
  },
  {
   "cell_type": "code",
   "execution_count": 10,
   "id": "73c6ae53-6887-4740-a2d3-7c909d02be51",
   "metadata": {},
   "outputs": [
    {
     "data": {
      "text/plain": [
       "< cv2.HOGDescriptor 000001C2E7ADBA90>"
      ]
     },
     "execution_count": 10,
     "metadata": {},
     "output_type": "execute_result"
    }
   ],
   "source": [
    "hog=cv2.HOGDescriptor()\n",
    "hog.setSVMDetector(cv2.HOGDescriptor_getDefaultPeopleDetector())\n",
    "hog"
   ]
  },
  {
   "cell_type": "code",
   "execution_count": 11,
   "id": "f704bae5-d461-4506-a45e-6e2179a28cc5",
   "metadata": {},
   "outputs": [
    {
     "data": {
      "text/plain": [
       "(180, 294, 3)"
      ]
     },
     "execution_count": 11,
     "metadata": {},
     "output_type": "execute_result"
    }
   ],
   "source": [
    "img=imutils.resize(im1,width=min(800,im1.shape[1]))\n",
    "img.shape"
   ]
  },
  {
   "cell_type": "code",
   "execution_count": 12,
   "id": "f051f128-bc03-44d0-944e-4827d88b510a",
   "metadata": {},
   "outputs": [],
   "source": [
    "(region,img)=hog.detectMultiScale(img,winStride=(1,1),padding=(40,40),scale=1.05)"
   ]
  },
  {
   "cell_type": "code",
   "execution_count": 13,
   "id": "400be754-aac2-412f-9aad-fc2c95aa3232",
   "metadata": {},
   "outputs": [
    {
     "data": {
      "text/plain": [
       "array([[131,  14,  81, 161],\n",
       "       [211,  22,  77, 154],\n",
       "       [ 56,  31,  76, 149],\n",
       "       [  0,  26,  56, 152],\n",
       "       [170,  53,  64, 127]])"
      ]
     },
     "execution_count": 13,
     "metadata": {},
     "output_type": "execute_result"
    }
   ],
   "source": [
    "region"
   ]
  },
  {
   "cell_type": "code",
   "execution_count": 14,
   "id": "c9bf2fa1-393b-418c-8019-edfdf4a061ce",
   "metadata": {},
   "outputs": [],
   "source": [
    "for (x,y,w,h) in region:\n",
    "    cv2.rectangle(img,(x,y),(x+w,y+h),(0,255,0),3)"
   ]
  },
  {
   "cell_type": "code",
   "execution_count": 15,
   "id": "e619b1f8-ba69-4dab-b2d5-2f24fc00a146",
   "metadata": {},
   "outputs": [],
   "source": [
    "cv2.imshow('img',img)\n",
    "cv2.waitKey(0)\n",
    "cv2.destroyAllWindows()"
   ]
  },
  {
   "cell_type": "code",
   "execution_count": null,
   "id": "03e94630-0ba1-4997-8316-78929fab54f9",
   "metadata": {},
   "outputs": [],
   "source": []
  }
 ],
 "metadata": {
  "kernelspec": {
   "display_name": "Python 3 (ipykernel)",
   "language": "python",
   "name": "python3"
  },
  "language_info": {
   "codemirror_mode": {
    "name": "ipython",
    "version": 3
   },
   "file_extension": ".py",
   "mimetype": "text/x-python",
   "name": "python",
   "nbconvert_exporter": "python",
   "pygments_lexer": "ipython3",
   "version": "3.11.7"
  }
 },
 "nbformat": 4,
 "nbformat_minor": 5
}
