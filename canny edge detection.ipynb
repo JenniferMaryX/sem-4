{
 "cells": [
  {
   "cell_type": "code",
   "execution_count": 1,
   "id": "a254abc2-e563-456a-831d-94eafaa190a1",
   "metadata": {},
   "outputs": [],
   "source": [
    "import cv2\n",
    "import numpy as np"
   ]
  },
  {
   "cell_type": "code",
   "execution_count": 3,
   "id": "eeb926ce-d563-4653-97b5-82ba9e168562",
   "metadata": {},
   "outputs": [],
   "source": [
    "im1=cv2.imread(\"13.jpg\",0)"
   ]
  },
  {
   "cell_type": "markdown",
   "id": "c94d6071-46e6-4f86-9a0f-a189b77b26f9",
   "metadata": {},
   "source": [
    "### canny edge"
   ]
  },
  {
   "cell_type": "code",
   "execution_count": 4,
   "id": "19042f71-fe82-4f16-b087-9e6a91fcf76d",
   "metadata": {},
   "outputs": [],
   "source": [
    "canny=cv2.Canny(im1,40,200)"
   ]
  },
  {
   "cell_type": "code",
   "execution_count": 5,
   "id": "05767879-3906-4d72-ae4b-79bca8868b96",
   "metadata": {},
   "outputs": [],
   "source": [
    "cv2.imshow(\"im1\",im1)\n",
    "cv2.imshow(\"canny\",canny)\n",
    "cv2.waitKey(0)\n",
    "cv2.destroyAllWindows()"
   ]
  },
  {
   "cell_type": "code",
   "execution_count": null,
   "id": "3f0bcf86-fd44-4d2b-9461-652372d5facb",
   "metadata": {},
   "outputs": [],
   "source": []
  }
 ],
 "metadata": {
  "kernelspec": {
   "display_name": "Python 3 (ipykernel)",
   "language": "python",
   "name": "python3"
  },
  "language_info": {
   "codemirror_mode": {
    "name": "ipython",
    "version": 3
   },
   "file_extension": ".py",
   "mimetype": "text/x-python",
   "name": "python",
   "nbconvert_exporter": "python",
   "pygments_lexer": "ipython3",
   "version": "3.11.7"
  }
 },
 "nbformat": 4,
 "nbformat_minor": 5
}
