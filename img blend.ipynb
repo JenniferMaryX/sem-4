{
 "cells": [
  {
   "cell_type": "code",
   "execution_count": 14,
   "id": "8bc1f30b-ec68-45a0-84aa-d9f6b42e2c01",
   "metadata": {},
   "outputs": [],
   "source": [
    "import cv2"
   ]
  },
  {
   "cell_type": "code",
   "execution_count": 15,
   "id": "ff9029d3-8302-4673-956d-b2ac8eec74fb",
   "metadata": {},
   "outputs": [],
   "source": [
    "import numpy as np"
   ]
  },
  {
   "cell_type": "code",
   "execution_count": 25,
   "id": "289a9d52-d150-43a3-b4b4-969cf1e0c4b5",
   "metadata": {},
   "outputs": [],
   "source": [
    "im1=cv2.imread(\"C:/Users/Administrator/Downloads/3.jpg\")\n",
    "im2=cv2.imread(\"C:/Users/Administrator/Downloads/5.jpg\")\n",
    "im3=cv2.resize(im2,(400,400))\n",
    "im4=cv2.resize(im1,(400,400))"
   ]
  },
  {
   "cell_type": "code",
   "execution_count": 26,
   "id": "777306c5-a7d4-422e-85ea-57bb92abaa77",
   "metadata": {},
   "outputs": [],
   "source": [
    "cv2.imshow(\"w1\",im4)\n",
    "cv2.imshow(\"w2\",im3)\n",
    "cv2.waitKey(0)\n",
    "cv2.destroyAllWindows()"
   ]
  },
  {
   "cell_type": "code",
   "execution_count": 27,
   "id": "f2e94cf5-f2f5-491b-8f93-c013ec1ca343",
   "metadata": {},
   "outputs": [],
   "source": [
    "im_blend=cv2.addWeighted(im3,0.2,im4,0.5,0)"
   ]
  },
  {
   "cell_type": "code",
   "execution_count": 28,
   "id": "225db960-fbad-489d-9692-75f4beb05d4f",
   "metadata": {},
   "outputs": [],
   "source": [
    "cv2.imshow(\"blended\",im_blend)\n",
    "cv2.waitKey(0)\n",
    "cv2.destroyAllWindows()"
   ]
  },
  {
   "cell_type": "code",
   "execution_count": 29,
   "id": "aafd407b-2ef4-4524-a629-b4be0ac093c7",
   "metadata": {},
   "outputs": [],
   "source": [
    "imsub=cv2.subtract(im3,im4)"
   ]
  },
  {
   "cell_type": "code",
   "execution_count": 30,
   "id": "1c8b683b-efda-4b3e-b0c4-9acae1c334d9",
   "metadata": {},
   "outputs": [],
   "source": [
    "cv2.imshow(\"sub\",imsub)\n",
    "cv2.waitKey(0)\n",
    "cv2.destroyAllWindows()"
   ]
  },
  {
   "cell_type": "code",
   "execution_count": 31,
   "id": "2a015674-8075-4955-8d1e-6064b0c9ed37",
   "metadata": {},
   "outputs": [],
   "source": [
    "And=cv2.bitwise_and(im3,im4)\n",
    "Or=cv2.bitwise_or(im3,im4)\n",
    "Not=cv2.bitwise_not(im3,im4)\n",
    "Xor=cv2.bitwise_xor(im3,im4)"
   ]
  },
  {
   "cell_type": "code",
   "execution_count": 32,
   "id": "0f849330-71a2-4865-ad84-3cd9798d49b9",
   "metadata": {},
   "outputs": [],
   "source": [
    "cv2.imshow(\"and\",And)\n",
    "cv2.waitKey(0)\n",
    "cv2.imshow(\"or\",Or)\n",
    "cv2.waitKey(0)\n",
    "cv2.imshow(\"not\",Not)\n",
    "cv2.waitKey(0)\n",
    "cv2.imshow(\"xor\",Xor)\n",
    "cv2.waitKey(0)\n",
    "cv2.destroyAllWindows()"
   ]
  },
  {
   "cell_type": "code",
   "execution_count": 8,
   "id": "bee493e4-69c7-46ca-9b60-f7cfc941e7ad",
   "metadata": {},
   "outputs": [],
   "source": [
    "Notor=cv2.bitwise_not(Or)"
   ]
  },
  {
   "cell_type": "code",
   "execution_count": 9,
   "id": "34e9f912-18bf-4c48-9505-6c34a5b97107",
   "metadata": {},
   "outputs": [],
   "source": [
    "cv2.imshow(\"notor\",Notor)\n",
    "cv2.waitKey(0)\n",
    "cv2.destroyAllWindows()"
   ]
  },
  {
   "cell_type": "code",
   "execution_count": 10,
   "id": "7ecfcd2e-da23-4304-82ea-464f8b506d08",
   "metadata": {},
   "outputs": [],
   "source": []
  },
  {
   "cell_type": "code",
   "execution_count": null,
   "id": "cb8dd2b1-9c9a-41fe-a5a3-d0b0365bb584",
   "metadata": {},
   "outputs": [],
   "source": []
  }
 ],
 "metadata": {
  "kernelspec": {
   "display_name": "Python 3 (ipykernel)",
   "language": "python",
   "name": "python3"
  },
  "language_info": {
   "codemirror_mode": {
    "name": "ipython",
    "version": 3
   },
   "file_extension": ".py",
   "mimetype": "text/x-python",
   "name": "python",
   "nbconvert_exporter": "python",
   "pygments_lexer": "ipython3",
   "version": "3.11.7"
  }
 },
 "nbformat": 4,
 "nbformat_minor": 5
}
