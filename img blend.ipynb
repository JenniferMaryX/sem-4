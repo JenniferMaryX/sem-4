{
 "cells": [
  {
   "cell_type": "code",
   "execution_count": 1,
   "id": "8bc1f30b-ec68-45a0-84aa-d9f6b42e2c01",
   "metadata": {},
   "outputs": [],
   "source": [
    "import cv2"
   ]
  },
  {
   "cell_type": "code",
   "execution_count": 2,
   "id": "ff9029d3-8302-4673-956d-b2ac8eec74fb",
   "metadata": {},
   "outputs": [],
   "source": [
    "import numpy as np"
   ]
  },
  {
   "cell_type": "code",
   "execution_count": 77,
   "id": "289a9d52-d150-43a3-b4b4-969cf1e0c4b5",
   "metadata": {},
   "outputs": [],
   "source": [
    "im1=cv2.imread(\"C:/Users/Administrator/Downloads/6.jpg\")\n",
    "im2=cv2.imread(\"C:/Users/Administrator/Downloads/7.jpg\")\n",
    "im3=cv2.resize(im2,(400,400))\n",
    "im4=cv2.resize(im1,(400,400))"
   ]
  },
  {
   "cell_type": "code",
   "execution_count": 78,
   "id": "b773a72f-2d99-4a29-9a12-4473482f273a",
   "metadata": {},
   "outputs": [
    {
     "data": {
      "text/plain": [
       "(2048, 1602, 3)"
      ]
     },
     "execution_count": 78,
     "metadata": {},
     "output_type": "execute_result"
    }
   ],
   "source": [
    "im1.shape"
   ]
  },
  {
   "cell_type": "code",
   "execution_count": 79,
   "id": "83d654c2-cacd-4044-9590-3a42e0358df7",
   "metadata": {},
   "outputs": [
    {
     "data": {
      "text/plain": [
       "(853, 799, 3)"
      ]
     },
     "execution_count": 79,
     "metadata": {},
     "output_type": "execute_result"
    }
   ],
   "source": [
    "im2.shape"
   ]
  },
  {
   "cell_type": "code",
   "execution_count": 80,
   "id": "777306c5-a7d4-422e-85ea-57bb92abaa77",
   "metadata": {},
   "outputs": [],
   "source": [
    "cv2.imshow(\"w1\",im4)\n",
    "cv2.imshow(\"w2\",im3)\n",
    "cv2.waitKey(0)\n",
    "cv2.destroyAllWindows()"
   ]
  },
  {
   "cell_type": "code",
   "execution_count": 81,
   "id": "f2e94cf5-f2f5-491b-8f93-c013ec1ca343",
   "metadata": {},
   "outputs": [],
   "source": [
    "im_blend=cv2.addWeighted(im3,0.2,im4,0.5,0)"
   ]
  },
  {
   "cell_type": "code",
   "execution_count": 82,
   "id": "225db960-fbad-489d-9692-75f4beb05d4f",
   "metadata": {},
   "outputs": [],
   "source": [
    "cv2.imshow(\"blended\",im_blend)\n",
    "cv2.waitKey(0)\n",
    "cv2.destroyAllWindows()"
   ]
  },
  {
   "cell_type": "code",
   "execution_count": 83,
   "id": "aafd407b-2ef4-4524-a629-b4be0ac093c7",
   "metadata": {},
   "outputs": [],
   "source": [
    "imsub=cv2.subtract(im3,im4)"
   ]
  },
  {
   "cell_type": "code",
   "execution_count": 84,
   "id": "1c8b683b-efda-4b3e-b0c4-9acae1c334d9",
   "metadata": {},
   "outputs": [],
   "source": [
    "cv2.imshow(\"sub\",imsub)\n",
    "cv2.waitKey(0)\n",
    "cv2.destroyAllWindows()"
   ]
  },
  {
   "cell_type": "code",
   "execution_count": 85,
   "id": "2a015674-8075-4955-8d1e-6064b0c9ed37",
   "metadata": {},
   "outputs": [],
   "source": [
    "And=cv2.bitwise_and(im3,im4)\n",
    "Or=cv2.bitwise_or(im3,im4)\n",
    "Not=cv2.bitwise_not(im3,im4)\n",
    "Xor=cv2.bitwise_xor(im3,im4)"
   ]
  },
  {
   "cell_type": "code",
   "execution_count": 88,
   "id": "67600eb9-e489-492d-a69d-a0ca53968ac0",
   "metadata": {},
   "outputs": [],
   "source": [
    "cv2.imshow(\"and\",And)\n",
    "cv2.waitKey(0)\n",
    "cv2.imshow(\"or\",Or)\n",
    "cv2.waitKey(0)\n",
    "cv2.imshow(\"not\",Not)\n",
    "cv2.waitKey(0)\n",
    "cv2.imshow(\"xor\",Xor)\n",
    "cv2.waitKey(0)\n",
    "cv2.destroyAllWindows()"
   ]
  },
  {
   "cell_type": "code",
   "execution_count": 89,
   "id": "bee493e4-69c7-46ca-9b60-f7cfc941e7ad",
   "metadata": {},
   "outputs": [],
   "source": [
    "Notor=cv2.bitwise_not(Or)"
   ]
  },
  {
   "cell_type": "code",
   "execution_count": 90,
   "id": "34e9f912-18bf-4c48-9505-6c34a5b97107",
   "metadata": {},
   "outputs": [],
   "source": [
    "cv2.imshow(\"notor\",Notor)\n",
    "cv2.waitKey(0)\n",
    "cv2.destroyAllWindows()"
   ]
  },
  {
   "cell_type": "markdown",
   "id": "568feaf5-08f6-402f-8e32-6e8f83430837",
   "metadata": {},
   "source": [
    "# ROI - region of interest"
   ]
  },
  {
   "cell_type": "code",
   "execution_count": 74,
   "id": "b7ba6669-e718-45e1-8491-651b492e845f",
   "metadata": {},
   "outputs": [],
   "source": [
    "roi=im4[0:400]"
   ]
  },
  {
   "cell_type": "code",
   "execution_count": 75,
   "id": "3401b780-7980-421f-a287-355dce6134b3",
   "metadata": {},
   "outputs": [],
   "source": [
    "cv2.imshow(\"roi\",roi)\n",
    "cv2.waitKey(0)\n",
    "cv2.destroyAllWindows()"
   ]
  },
  {
   "cell_type": "code",
   "execution_count": null,
   "id": "7ecfcd2e-da23-4304-82ea-464f8b506d08",
   "metadata": {},
   "outputs": [],
   "source": []
  },
  {
   "cell_type": "code",
   "execution_count": null,
   "id": "cb8dd2b1-9c9a-41fe-a5a3-d0b0365bb584",
   "metadata": {},
   "outputs": [],
   "source": []
  },
  {
   "cell_type": "code",
   "execution_count": null,
   "id": "beeb1ac0-94a1-4bf3-89ff-c00445ce775b",
   "metadata": {},
   "outputs": [],
   "source": []
  },
  {
   "cell_type": "code",
   "execution_count": null,
   "id": "676f8012-fab0-4bf1-a548-f8b44c219862",
   "metadata": {},
   "outputs": [],
   "source": []
  },
  {
   "cell_type": "code",
   "execution_count": null,
   "id": "2385ed25-bbfa-4b4b-b820-a3d9ffa43c81",
   "metadata": {},
   "outputs": [],
   "source": []
  },
  {
   "cell_type": "code",
   "execution_count": null,
   "id": "fc6ed055-97dd-4621-b29d-074b36a110a6",
   "metadata": {},
   "outputs": [],
   "source": []
  },
  {
   "cell_type": "code",
   "execution_count": null,
   "id": "0cbcb37b-112e-414a-97e4-214f341d905c",
   "metadata": {},
   "outputs": [],
   "source": []
  },
  {
   "cell_type": "code",
   "execution_count": null,
   "id": "28b96ff2-121c-4f80-b2ca-7e7ac00ecf80",
   "metadata": {},
   "outputs": [],
   "source": []
  },
  {
   "cell_type": "code",
   "execution_count": null,
   "id": "850025f4-d608-43d9-97a7-bd20f96128c8",
   "metadata": {},
   "outputs": [],
   "source": []
  },
  {
   "cell_type": "code",
   "execution_count": null,
   "id": "3339332d-94f3-4ac5-8582-6c48715fd558",
   "metadata": {},
   "outputs": [],
   "source": []
  },
  {
   "cell_type": "code",
   "execution_count": null,
   "id": "0700fe23-71e0-4af0-94b8-004e88dda1c1",
   "metadata": {},
   "outputs": [],
   "source": []
  },
  {
   "cell_type": "code",
   "execution_count": null,
   "id": "937d98b2-f6e4-4b1e-8c60-10fb53623a54",
   "metadata": {},
   "outputs": [],
   "source": []
  },
  {
   "cell_type": "code",
   "execution_count": null,
   "id": "157e2522-9a21-4b0c-9bc7-1c7da0477dc6",
   "metadata": {},
   "outputs": [],
   "source": []
  },
  {
   "cell_type": "code",
   "execution_count": null,
   "id": "c85b5729-08b8-4d9f-bd14-81211a3212e6",
   "metadata": {},
   "outputs": [],
   "source": []
  },
  {
   "cell_type": "code",
   "execution_count": null,
   "id": "902259ce-e6be-4c1c-92c4-d262bbc4c328",
   "metadata": {},
   "outputs": [],
   "source": []
  },
  {
   "cell_type": "code",
   "execution_count": null,
   "id": "4e917834-0fec-494a-80fd-8a00427e8eab",
   "metadata": {},
   "outputs": [],
   "source": []
  },
  {
   "cell_type": "code",
   "execution_count": null,
   "id": "678db265-f5c9-42c7-b3c0-c2ac6975766b",
   "metadata": {},
   "outputs": [],
   "source": []
  },
  {
   "cell_type": "code",
   "execution_count": null,
   "id": "349af633-a9e0-4f9d-99b8-8a13d2e9965e",
   "metadata": {},
   "outputs": [],
   "source": []
  },
  {
   "cell_type": "code",
   "execution_count": null,
   "id": "7389e32f-6755-4bb0-a7ee-0308fdb4351f",
   "metadata": {},
   "outputs": [],
   "source": []
  },
  {
   "cell_type": "code",
   "execution_count": null,
   "id": "1f222990-f087-4082-a63b-6291b7edb856",
   "metadata": {},
   "outputs": [],
   "source": []
  }
 ],
 "metadata": {
  "kernelspec": {
   "display_name": "Python 3 (ipykernel)",
   "language": "python",
   "name": "python3"
  },
  "language_info": {
   "codemirror_mode": {
    "name": "ipython",
    "version": 3
   },
   "file_extension": ".py",
   "mimetype": "text/x-python",
   "name": "python",
   "nbconvert_exporter": "python",
   "pygments_lexer": "ipython3",
   "version": "3.11.7"
  }
 },
 "nbformat": 4,
 "nbformat_minor": 5
}
