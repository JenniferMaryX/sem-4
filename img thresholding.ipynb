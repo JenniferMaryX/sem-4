{
 "cells": [
  {
   "cell_type": "code",
   "execution_count": 1,
   "id": "e78a9c80-c216-4956-9a8e-0505168a9e6e",
   "metadata": {},
   "outputs": [],
   "source": [
    "import cv2"
   ]
  },
  {
   "cell_type": "code",
   "execution_count": 2,
   "id": "93a50e12-7913-4a2c-b700-f7ba55e72134",
   "metadata": {},
   "outputs": [],
   "source": [
    "import numpy as np"
   ]
  },
  {
   "cell_type": "code",
   "execution_count": 14,
   "id": "56c8c6fb-786b-4c46-808d-2cc947ebbf59",
   "metadata": {},
   "outputs": [],
   "source": [
    "im1=cv2.imread(\"10.jpg\",0)\n",
    "im2=cv2.imread(\"9.jpg\")\n",
    "im3=cv2.resize(im1,(400,400))\n",
    "im4=cv2.resize(im2,(400,400))"
   ]
  },
  {
   "cell_type": "code",
   "execution_count": 15,
   "id": "395e8ae0-3897-4fe8-95c8-7391a92e164c",
   "metadata": {},
   "outputs": [],
   "source": [
    "cv2.imshow(\"w1\",im4)\n",
    "cv2.imshow(\"w2\",im3)\n",
    "cv2.waitKey(0)\n",
    "cv2.destroyAllWindows()"
   ]
  },
  {
   "cell_type": "code",
   "execution_count": 17,
   "id": "380a29a0-8c7d-4617-9529-0137493e8522",
   "metadata": {},
   "outputs": [
    {
     "data": {
      "text/plain": [
       "array([[225, 222, 218, ..., 236, 236, 236],\n",
       "       [225, 222, 218, ..., 236, 236, 236],\n",
       "       [226, 222, 218, ..., 236, 236, 236],\n",
       "       ...,\n",
       "       [100,  83,  74, ..., 122,  75, 133],\n",
       "       [ 98, 100, 115, ..., 143,  90,  81],\n",
       "       [209, 199, 202, ..., 135, 143,  86]], dtype=uint8)"
      ]
     },
     "execution_count": 17,
     "metadata": {},
     "output_type": "execute_result"
    }
   ],
   "source": [
    "im1"
   ]
  },
  {
   "cell_type": "markdown",
   "id": "53129d85-d3fd-4020-bdf3-2478265c71e3",
   "metadata": {},
   "source": [
    "# syntax:\n",
    "###### ret,variableName=cv2.threshold(imputImage,thresholdLimit,repLACRvALUE,<thresholdType>)"
   ]
  },
  {
   "cell_type": "code",
   "execution_count": 76,
   "id": "b1f360d4-4937-41c5-92a3-5923edf1c669",
   "metadata": {},
   "outputs": [],
   "source": [
    "ret,thres=cv2.threshold(im1,209,240,cv2.THRESH_BINARY)"
   ]
  },
  {
   "cell_type": "code",
   "execution_count": 77,
   "id": "a535fc84-cee0-4ca8-95ec-3aefc775bfd9",
   "metadata": {},
   "outputs": [
    {
     "name": "stdout",
     "output_type": "stream",
     "text": [
      "209.0\n"
     ]
    }
   ],
   "source": [
    "print(ret)"
   ]
  },
  {
   "cell_type": "code",
   "execution_count": 78,
   "id": "53470007-b0f5-4741-8fe2-30ce04a8a56a",
   "metadata": {},
   "outputs": [],
   "source": [
    "cv2.imshow(\"thres\",thres)\n",
    "cv2.waitKey(0)\n",
    "cv2.destroyAllWindows()"
   ]
  },
  {
   "cell_type": "code",
   "execution_count": 94,
   "id": "8f34002e-ac70-4032-a63c-4b59e3941097",
   "metadata": {},
   "outputs": [],
   "source": [
    "ret,thres=cv2.threshold(im1,209,240,cv2.THRESH_BINARY)\n",
    "ret,thres1=cv2.threshold(im1,200,240,cv2.THRESH_BINARY_INV)\n",
    "ret,thres2=cv2.threshold(im1,209,240,cv2.THRESH_TRUNC)\n",
    "ret,thres3=cv2.threshold(im1,209,240,cv2.THRESH_TOZERO)\n",
    "ret,thres4=cv2.threshold(im1,210,240,cv2.THRESH_TOZERO_INV)"
   ]
  },
  {
   "cell_type": "code",
   "execution_count": 95,
   "id": "860a0703-219e-42cf-a4e5-096b9a7f5f25",
   "metadata": {},
   "outputs": [],
   "source": [
    "cv2.imshow(\"thres\",thres)\n",
    "cv2.waitKey(0)\n",
    "cv2.imshow(\"thres_1\",thres1)\n",
    "cv2.waitKey(0)\n",
    "cv2.imshow(\"thres_2\",thres2)\n",
    "cv2.waitKey(0)\n",
    "cv2.imshow(\"thres_3\",thres3)\n",
    "cv2.waitKey(0)\n",
    "cv2.imshow(\"thres_4\",thres4)\n",
    "cv2.waitKey(0)\n",
    "cv2.destroyAllWindows()"
   ]
  },
  {
   "cell_type": "code",
   "execution_count": null,
   "id": "e2db8672-33a3-412f-8486-19c7d2a5cbd1",
   "metadata": {},
   "outputs": [],
   "source": []
  },
  {
   "cell_type": "code",
   "execution_count": null,
   "id": "20dfd399-c451-49c7-9cab-f8f6ea84c421",
   "metadata": {},
   "outputs": [],
   "source": []
  },
  {
   "cell_type": "code",
   "execution_count": null,
   "id": "1f02e6d7-412a-46b7-a101-73abe2c1e0ba",
   "metadata": {},
   "outputs": [],
   "source": []
  },
  {
   "cell_type": "code",
   "execution_count": null,
   "id": "2d88df7c-5661-482a-96e7-511d15de99ba",
   "metadata": {},
   "outputs": [],
   "source": []
  },
  {
   "cell_type": "code",
   "execution_count": null,
   "id": "33e68905-ac6b-447b-a68c-88ddbd9db274",
   "metadata": {},
   "outputs": [],
   "source": []
  },
  {
   "cell_type": "code",
   "execution_count": null,
   "id": "a1d4d315-f639-4dfa-9ee0-4ff35163f865",
   "metadata": {},
   "outputs": [],
   "source": []
  },
  {
   "cell_type": "code",
   "execution_count": null,
   "id": "f4eda603-7a33-459a-91c3-99d9b9d6e454",
   "metadata": {},
   "outputs": [],
   "source": []
  },
  {
   "cell_type": "code",
   "execution_count": null,
   "id": "cb111594-d779-4a01-9d7d-dc8f20d848f4",
   "metadata": {},
   "outputs": [],
   "source": []
  },
  {
   "cell_type": "code",
   "execution_count": null,
   "id": "195267a9-47bb-45c8-9532-ded2da13d033",
   "metadata": {},
   "outputs": [],
   "source": []
  },
  {
   "cell_type": "code",
   "execution_count": null,
   "id": "99ffbd1d-2de1-49da-943d-3cbeb4085229",
   "metadata": {},
   "outputs": [],
   "source": []
  },
  {
   "cell_type": "code",
   "execution_count": null,
   "id": "2f8ae6c2-0376-4559-81ab-c54cbc62a09f",
   "metadata": {},
   "outputs": [],
   "source": []
  },
  {
   "cell_type": "code",
   "execution_count": null,
   "id": "b729cd89-89a4-41b4-bf96-3df775e76f26",
   "metadata": {},
   "outputs": [],
   "source": []
  },
  {
   "cell_type": "code",
   "execution_count": null,
   "id": "2ed20de8-b25a-47dd-ab48-5cc84d0dabaf",
   "metadata": {},
   "outputs": [],
   "source": []
  },
  {
   "cell_type": "code",
   "execution_count": null,
   "id": "48e6be6b-4a3e-4a00-95ce-0831102102b0",
   "metadata": {},
   "outputs": [],
   "source": []
  },
  {
   "cell_type": "code",
   "execution_count": null,
   "id": "0335e6d9-8f76-4820-858c-f648179e3efb",
   "metadata": {},
   "outputs": [],
   "source": []
  },
  {
   "cell_type": "code",
   "execution_count": null,
   "id": "f4fa3901-6a26-4ef8-a004-baabaf9be26d",
   "metadata": {},
   "outputs": [],
   "source": []
  },
  {
   "cell_type": "code",
   "execution_count": null,
   "id": "1f6627ae-c439-4573-bcff-2cce4db446dd",
   "metadata": {},
   "outputs": [],
   "source": []
  },
  {
   "cell_type": "code",
   "execution_count": null,
   "id": "369f7c10-5c40-4f61-ab2c-278fa0891dc8",
   "metadata": {},
   "outputs": [],
   "source": []
  },
  {
   "cell_type": "code",
   "execution_count": null,
   "id": "04dfe1c7-e267-467d-ada7-956b9c84752e",
   "metadata": {},
   "outputs": [],
   "source": []
  },
  {
   "cell_type": "code",
   "execution_count": null,
   "id": "df21bd1a-a574-497e-a448-06e79208c240",
   "metadata": {},
   "outputs": [],
   "source": []
  },
  {
   "cell_type": "code",
   "execution_count": null,
   "id": "4181ece7-30be-48b1-af53-7ac468bf1227",
   "metadata": {},
   "outputs": [],
   "source": []
  },
  {
   "cell_type": "code",
   "execution_count": null,
   "id": "1d7cf41f-5c3d-4535-99a5-cd05b6eaa3ee",
   "metadata": {},
   "outputs": [],
   "source": []
  },
  {
   "cell_type": "code",
   "execution_count": null,
   "id": "3d58d9a2-8975-47fe-992e-3829152db0bf",
   "metadata": {},
   "outputs": [],
   "source": []
  },
  {
   "cell_type": "code",
   "execution_count": null,
   "id": "4df1994c-6e7f-4bda-9268-a100eadf46be",
   "metadata": {},
   "outputs": [],
   "source": []
  }
 ],
 "metadata": {
  "kernelspec": {
   "display_name": "Python 3 (ipykernel)",
   "language": "python",
   "name": "python3"
  },
  "language_info": {
   "codemirror_mode": {
    "name": "ipython",
    "version": 3
   },
   "file_extension": ".py",
   "mimetype": "text/x-python",
   "name": "python",
   "nbconvert_exporter": "python",
   "pygments_lexer": "ipython3",
   "version": "3.11.7"
  }
 },
 "nbformat": 4,
 "nbformat_minor": 5
}
